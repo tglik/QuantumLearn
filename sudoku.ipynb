{
 "cells": [
  {
   "cell_type": "markdown",
   "id": "5aebc52e",
   "metadata": {},
   "source": [
    "# Quantum Sudoku Solver with Qiskit\n",
    "This notebook demonstrates how to approach solving a simple Sudoku puzzle using quantum computing concepts with Qiskit. We'll use a small 4x4 Sudoku for demonstration, as current quantum hardware and simulators are not yet capable of efficiently solving full 9x9 puzzles."
   ]
  },
  {
   "cell_type": "code",
   "execution_count": 31,
   "id": "82a43661",
   "metadata": {},
   "outputs": [],
   "source": [
    "# Install Qiskit if not already installed (uncomment if needed)\n",
    "# !pip install qiskit\n",
    "\n",
    "from qiskit import QuantumCircuit, QuantumRegister\n",
    "from qiskit_aer import AerSimulator\n",
    "from qiskit.visualization import plot_histogram\n",
    "from qiskit_ibm_runtime.fake_provider import FakeEssexV2\n",
    "from qiskit_ibm_runtime import EstimatorV2 as Estimator\n",
    "import numpy as np\n",
    "import matplotlib.pyplot as plt"
   ]
  },
  {
   "cell_type": "markdown",
   "id": "9c980ac2",
   "metadata": {},
   "source": [
    "## Sudoku 2x2"
   ]
  },
  {
   "cell_type": "code",
   "execution_count": null,
   "id": "9abce675",
   "metadata": {},
   "outputs": [
    {
     "name": "stdout",
     "output_type": "stream",
     "text": [
      "Initial 4x4 Sudoku Puzzle:\n",
      "[[1 0 0 4]\n",
      " [0 0 0 0]\n",
      " [0 0 0 0]\n",
      " [2 0 0 3]]\n"
     ]
    }
   ],
   "source": [
    "# Define a sample 4x4 Sudoku puzzle (0 = empty)\n",
    "sudoku = np.array([\n",
    "    [1, 0, 0, 4],\n",
    "    [0, 0, 0, 0],\n",
    "    [0, 0, 0, 0],\n",
    "    [2, 0, 0, 3]\n",
    "])\n",
    "\n",
    "print(\"Initial 4x4 Sudoku Puzzle:\")\n",
    "print(sudoku)"
   ]
  },
  {
   "cell_type": "markdown",
   "id": "ff3cd3e9",
   "metadata": {},
   "source": [
    "## Quantum Encoding\n",
    "\n",
    "Each cell can take values 1-4, which can be encoded using 2 qubits per cell (since 2 qubits = 4 states). For a 4x4 Sudoku, we need 16 cells × 2 qubits = 32 qubits. "
   ]
  },
  {
   "cell_type": "markdown",
   "id": "a6114029",
   "metadata": {},
   "source": [
    "# Oracle function\n",
    "We'll encode the constraints (unique values in rows, columns, and boxes) as quantum logic"
   ]
  },
  {
   "cell_type": "code",
   "execution_count": null,
   "id": "ce32a0eb",
   "metadata": {},
   "outputs": [],
   "source": []
  },
  {
   "cell_type": "code",
   "execution_count": 35,
   "id": "b10befee",
   "metadata": {},
   "outputs": [],
   "source": [
    "## Create constraints\n",
    "\n",
    "clause_list = [[0,1],\n",
    "               [0,2],\n",
    "               [1,3],\n",
    "               [2,3]]\n",
    "# Each clause enforces that a number appears only once in a row, column, or box.\n",
    "# For 4x4 Sudoku, generate clauses for all pairs of cells in the same row, column, or 2x2 box.\n",
    "\n",
    "# clause_set = set()\n",
    "\n",
    "# # Row constraints\n",
    "# for row in range(4):\n",
    "#     cells_in_row = [4*row + col for col in range(4)]\n",
    "#     for i in range(4):\n",
    "#         for j in range(i+1, 4):\n",
    "#             pair = tuple(sorted((cells_in_row[i], cells_in_row[j])))\n",
    "#             if pair[0] != pair[1]:\n",
    "#                 clause_set.add(pair)\n",
    "\n",
    "# # Column constraints\n",
    "# for col in range(4):\n",
    "#     cells_in_col = [4*row + col for row in range(4)]\n",
    "#     for i in range(4):\n",
    "#         for j in range(i+1, 4):\n",
    "#             pair = tuple(sorted((cells_in_col[i], cells_in_col[j])))\n",
    "#             if pair[0] != pair[1]:\n",
    "#                 clause_set.add(pair)\n",
    "\n",
    "# # Box constraints (2x2 boxes)\n",
    "# for box_row in range(2):\n",
    "#     for box_col in range(2):\n",
    "#         cells_in_box = []\n",
    "#         for i in range(2):\n",
    "#             for j in range(2):\n",
    "#                 cells_in_box.append(4*(2*box_row + i) + (2*box_col + j))\n",
    "#         for i in range(4):\n",
    "#             for j in range(i+1, 4):\n",
    "#                 pair = tuple(sorted((cells_in_box[i], cells_in_box[j])))\n",
    "#                 if pair[0] != pair[1]:\n",
    "#                     clause_set.add(pair)\n",
    "\n",
    "# clause_list = list(clause_set)\n",
    "# print(len(clause_list))"
   ]
  },
  {
   "cell_type": "code",
   "execution_count": 38,
   "id": "a9c4f634",
   "metadata": {},
   "outputs": [],
   "source": [
    "def XOR(qc, a, b, output):\n",
    "    qc.cx(a, output)\n",
    "    qc.cx(b, output)\n",
    "\n",
    "\n",
    "def sudoku_oracle(qc, var_qb, clause_qb, output_qb):\n",
    "    # Compute clauses\n",
    "    i = 0\n",
    "    for clause in clause_list:\n",
    "        XOR(qc, clause[0], clause[1], clause_qb[i])\n",
    "        i += 1\n",
    "\n",
    "    # Flip 'output' bit if all clauses are satisfied\n",
    "    qc.mct(clause_qb, output_qb)\n",
    "\n"
   ]
  },
  {
   "cell_type": "code",
   "execution_count": 40,
   "id": "ce816e1f",
   "metadata": {},
   "outputs": [
    {
     "data": {
      "image/png": "[encoded data removed]",
      "text/plain": [
       "<Figure size 172.493x785.944 with 1 Axes>"
      ]
     },
     "execution_count": 40,
     "metadata": {},
     "output_type": "execute_result"
    }
   ],
   "source": [
    "# Create separate registers to name bits\n",
    "var_qubits = QuantumRegister(4, name='v')\n",
    "clause_qubits = QuantumRegister(len(clause_list), name='c')\n",
    "output_qubit = QuantumRegister(1, name='out')\n",
    "qc = QuantumCircuit(var_qubits, clause_qubits, output_qubit)\n",
    "\n",
    "\n",
    "qc.draw('mpl')"
   ]
  },
  {
   "cell_type": "code",
   "execution_count": 25,
   "id": "9036ff6c",
   "metadata": {},
   "outputs": [
    {
     "name": "stdout",
     "output_type": "stream",
     "text": [
      "[32, 33, 34]\n",
      "[35, 36, 37, 38, 39, 40, 41, 42, 43, 44, 45, 46, 47, 48]\n",
      "49\n",
      "50\n",
      "marks: [34, 34, 34, 34, 34, 34, 34, 34, 34, 34, 34, 34, 34, 34, 34, 34, 34, 34, 34, 34, 34, 34, 34, 34, 34, 34, 34, 34, 34, 34, 34, 34, 34, 34, 34, 34, 34, 34, 34, 34, 34, 34, 34, 34, 34, 34, 34, 34, 34, 34, 34, 34, 34, 34, 34, 34, 34, 34, 34, 34, 34, 34, 34, 34, 34, 34, 34, 34, 34, 34, 34, 34]\n",
      "34 34 35\n"
     ]
    },
    {
     "ename": "CircuitError",
     "evalue": "'duplicate qubit arguments'",
     "output_type": "error",
     "traceback": [
      "\u001b[31m---------------------------------------------------------------------------\u001b[39m",
      "\u001b[31mCircuitError\u001b[39m                              Traceback (most recent call last)",
      "\u001b[36mCell\u001b[39m\u001b[36m \u001b[39m\u001b[32mIn[25]\u001b[39m\u001b[32m, line 34\u001b[39m\n\u001b[32m     32\u001b[39m \u001b[38;5;28mprint\u001b[39m(allgood)\n\u001b[32m     33\u001b[39m \u001b[38;5;28mprint\u001b[39m(phase)\n\u001b[32m---> \u001b[39m\u001b[32m34\u001b[39m \u001b[43moracle_4x4_sudoku\u001b[49m\u001b[43m(\u001b[49m\u001b[43mqc\u001b[49m\u001b[43m,\u001b[49m\u001b[43m \u001b[49m\u001b[43mcells\u001b[49m\u001b[43m,\u001b[49m\u001b[43m \u001b[49m\u001b[43manc_eq\u001b[49m\u001b[43m,\u001b[49m\u001b[43m \u001b[49m\u001b[43manc_tree\u001b[49m\u001b[43m,\u001b[49m\u001b[43m \u001b[49m\u001b[43mallgood\u001b[49m\u001b[43m,\u001b[49m\u001b[43m \u001b[49m\u001b[43mphase\u001b[49m\u001b[43m,\u001b[49m\u001b[43m \u001b[49m\u001b[43mclues\u001b[49m\u001b[43m)\u001b[49m\n\u001b[32m     36\u001b[39m \u001b[38;5;66;03m# Show the circuit\u001b[39;00m\n\u001b[32m     37\u001b[39m qc.draw(\u001b[33m'\u001b[39m\u001b[33mmpl\u001b[39m\u001b[33m'\u001b[39m)\n",
      "\u001b[36mCell\u001b[39m\u001b[36m \u001b[39m\u001b[32mIn[24]\u001b[39m\u001b[32m, line 142\u001b[39m, in \u001b[36moracle_4x4_sudoku\u001b[39m\u001b[34m(circ, cells, anc_eq, anc_tree, allgood, phase, clues)\u001b[39m\n\u001b[32m    138\u001b[39m     \u001b[38;5;66;03m# (Leave eq in place until we finish the AND; then we’ll uncompute eq if needed.)\u001b[39;00m\n\u001b[32m    139\u001b[39m \n\u001b[32m    140\u001b[39m \u001b[38;5;66;03m# 3) AND all marks → allgood (binary tree of Toffolis using anc_tree)\u001b[39;00m\n\u001b[32m    141\u001b[39m \u001b[38;5;28mprint\u001b[39m(\u001b[33mf\u001b[39m\u001b[33m\"\u001b[39m\u001b[33mmarks: \u001b[39m\u001b[38;5;132;01m{\u001b[39;00mmarks\u001b[38;5;132;01m}\u001b[39;00m\u001b[33m\"\u001b[39m)\n\u001b[32m--> \u001b[39m\u001b[32m142\u001b[39m \u001b[43mand_all\u001b[49m\u001b[43m(\u001b[49m\u001b[43mcirc\u001b[49m\u001b[43m,\u001b[49m\u001b[43m \u001b[49m\u001b[43mmarks\u001b[49m\u001b[43m,\u001b[49m\u001b[43m \u001b[49m\u001b[43mallgood\u001b[49m\u001b[43m,\u001b[49m\u001b[43m \u001b[49m\u001b[43manc_tree\u001b[49m\u001b[43m)\u001b[49m\n\u001b[32m    144\u001b[39m \u001b[38;5;66;03m# 4) Phase kickback (mark valid solutions)\u001b[39;00m\n\u001b[32m    145\u001b[39m \u001b[38;5;66;03m# phase is prepped as |-> outside:\u001b[39;00m\n\u001b[32m    146\u001b[39m circ.cx(allgood, phase)   \u001b[38;5;66;03m# with |->, CX acts like a controlled phase flip up to a global phase\u001b[39;00m\n",
      "\u001b[36mCell\u001b[39m\u001b[36m \u001b[39m\u001b[32mIn[24]\u001b[39m\u001b[32m, line 49\u001b[39m, in \u001b[36mand_all\u001b[39m\u001b[34m(circ, marks, allgood, anc_tree)\u001b[39m\n\u001b[32m     47\u001b[39m t = anc_tree[anc_idx]\n\u001b[32m     48\u001b[39m \u001b[38;5;28mprint\u001b[39m(\u001b[33mf\u001b[39m\u001b[33m\"\u001b[39m\u001b[38;5;132;01m{\u001b[39;00mtemp[i]\u001b[38;5;132;01m}\u001b[39;00m\u001b[33m \u001b[39m\u001b[38;5;132;01m{\u001b[39;00mtemp[i+\u001b[32m1\u001b[39m]\u001b[38;5;132;01m}\u001b[39;00m\u001b[33m \u001b[39m\u001b[38;5;132;01m{\u001b[39;00mt\u001b[38;5;132;01m}\u001b[39;00m\u001b[33m\"\u001b[39m)\n\u001b[32m---> \u001b[39m\u001b[32m49\u001b[39m \u001b[43mcirc\u001b[49m\u001b[43m.\u001b[49m\u001b[43mccx\u001b[49m\u001b[43m(\u001b[49m\u001b[43mtemp\u001b[49m\u001b[43m[\u001b[49m\u001b[43mi\u001b[49m\u001b[43m]\u001b[49m\u001b[43m,\u001b[49m\u001b[43m \u001b[49m\u001b[43mtemp\u001b[49m\u001b[43m[\u001b[49m\u001b[43mi\u001b[49m\u001b[43m \u001b[49m\u001b[43m+\u001b[49m\u001b[43m \u001b[49m\u001b[32;43m1\u001b[39;49m\u001b[43m]\u001b[49m\u001b[43m,\u001b[49m\u001b[43m \u001b[49m\u001b[43mt\u001b[49m\u001b[43m)\u001b[49m\n\u001b[32m     50\u001b[39m next_temp.append(t)\n\u001b[32m     51\u001b[39m anc_idx += \u001b[32m1\u001b[39m\n",
      "\u001b[36mFile \u001b[39m\u001b[32mc:\\Users\\tmgli\\Documents\\Source\\quantum\\.venv\\Lib\\site-packages\\qiskit\\circuit\\quantumcircuit.py:6045\u001b[39m, in \u001b[36mQuantumCircuit.ccx\u001b[39m\u001b[34m(self, control_qubit1, control_qubit2, target_qubit, ctrl_state)\u001b[39m\n\u001b[32m   6043\u001b[39m \u001b[38;5;66;03m# if the control state is |11> use the fast Rust version of the gate\u001b[39;00m\n\u001b[32m   6044\u001b[39m \u001b[38;5;28;01mif\u001b[39;00m ctrl_state \u001b[38;5;129;01mis\u001b[39;00m \u001b[38;5;28;01mNone\u001b[39;00m \u001b[38;5;129;01mor\u001b[39;00m ctrl_state \u001b[38;5;129;01min\u001b[39;00m [\u001b[33m\"\u001b[39m\u001b[33m11\u001b[39m\u001b[33m\"\u001b[39m, \u001b[32m3\u001b[39m]:\n\u001b[32m-> \u001b[39m\u001b[32m6045\u001b[39m     \u001b[38;5;28;01mreturn\u001b[39;00m \u001b[38;5;28;43mself\u001b[39;49m\u001b[43m.\u001b[49m\u001b[43m_append_standard_gate\u001b[49m\u001b[43m(\u001b[49m\n\u001b[32m   6046\u001b[39m \u001b[43m        \u001b[49m\u001b[43mStandardGate\u001b[49m\u001b[43m.\u001b[49m\u001b[43mCCX\u001b[49m\u001b[43m,\u001b[49m\n\u001b[32m   6047\u001b[39m \u001b[43m        \u001b[49m\u001b[43m[\u001b[49m\u001b[43mcontrol_qubit1\u001b[49m\u001b[43m,\u001b[49m\u001b[43m \u001b[49m\u001b[43mcontrol_qubit2\u001b[49m\u001b[43m,\u001b[49m\u001b[43m \u001b[49m\u001b[43mtarget_qubit\u001b[49m\u001b[43m]\u001b[49m\u001b[43m,\u001b[49m\n\u001b[32m   6048\u001b[39m \u001b[43m        \u001b[49m\u001b[43m(\u001b[49m\u001b[43m)\u001b[49m\u001b[43m,\u001b[49m\n\u001b[32m   6049\u001b[39m \u001b[43m    \u001b[49m\u001b[43m)\u001b[49m\n\u001b[32m   6051\u001b[39m \u001b[38;5;28;01mfrom\u001b[39;00m\u001b[38;5;250m \u001b[39m\u001b[34;01m.\u001b[39;00m\u001b[34;01mlibrary\u001b[39;00m\u001b[34;01m.\u001b[39;00m\u001b[34;01mstandard_gates\u001b[39;00m\u001b[34;01m.\u001b[39;00m\u001b[34;01mx\u001b[39;00m\u001b[38;5;250m \u001b[39m\u001b[38;5;28;01mimport\u001b[39;00m CCXGate\n\u001b[32m   6053\u001b[39m \u001b[38;5;28;01mreturn\u001b[39;00m \u001b[38;5;28mself\u001b[39m.append(\n\u001b[32m   6054\u001b[39m     CCXGate(ctrl_state=ctrl_state),\n\u001b[32m   6055\u001b[39m     [control_qubit1, control_qubit2, target_qubit],\n\u001b[32m   6056\u001b[39m     [],\n\u001b[32m   6057\u001b[39m     copy=\u001b[38;5;28;01mFalse\u001b[39;00m,\n\u001b[32m   6058\u001b[39m )\n",
      "\u001b[36mFile \u001b[39m\u001b[32mc:\\Users\\tmgli\\Documents\\Source\\quantum\\.venv\\Lib\\site-packages\\qiskit\\circuit\\quantumcircuit.py:2648\u001b[39m, in \u001b[36mQuantumCircuit._append_standard_gate\u001b[39m\u001b[34m(self, op, qargs, params, label)\u001b[39m\n\u001b[32m   2646\u001b[39m instructions = InstructionSet(resource_requester=circuit_scope.resolve_classical_resource)\n\u001b[32m   2647\u001b[39m \u001b[38;5;28;01mfor\u001b[39;00m qarg, _ \u001b[38;5;129;01min\u001b[39;00m Gate.broadcast_arguments(op, expanded_qargs, []):\n\u001b[32m-> \u001b[39m\u001b[32m2648\u001b[39m     \u001b[38;5;28;43mself\u001b[39;49m\u001b[43m.\u001b[49m\u001b[43m_check_dups\u001b[49m\u001b[43m(\u001b[49m\u001b[43mqarg\u001b[49m\u001b[43m)\u001b[49m\n\u001b[32m   2649\u001b[39m     instruction = CircuitInstruction.from_standard(op, qarg, params, label=label)\n\u001b[32m   2650\u001b[39m     circuit_scope.append(instruction, _standard_gate=\u001b[38;5;28;01mTrue\u001b[39;00m)\n",
      "\u001b[36mFile \u001b[39m\u001b[32mc:\\Users\\tmgli\\Documents\\Source\\quantum\\.venv\\Lib\\site-packages\\qiskit\\circuit\\quantumcircuit.py:3568\u001b[39m, in \u001b[36mQuantumCircuit._check_dups\u001b[39m\u001b[34m(self, qubits)\u001b[39m\n\u001b[32m   3566\u001b[39m \u001b[38;5;28;01mdef\u001b[39;00m\u001b[38;5;250m \u001b[39m\u001b[34m_check_dups\u001b[39m(\u001b[38;5;28mself\u001b[39m, qubits: Sequence[Qubit]) -> \u001b[38;5;28;01mNone\u001b[39;00m:\n\u001b[32m   3567\u001b[39m \u001b[38;5;250m    \u001b[39m\u001b[33;03m\"\"\"Raise exception if list of qubits contains duplicates.\"\"\"\u001b[39;00m\n\u001b[32m-> \u001b[39m\u001b[32m3568\u001b[39m     \u001b[43mCircuitData\u001b[49m\u001b[43m.\u001b[49m\u001b[43m_check_dups\u001b[49m\u001b[43m(\u001b[49m\u001b[43mqubits\u001b[49m\u001b[43m)\u001b[49m\n",
      "\u001b[31mCircuitError\u001b[39m: 'duplicate qubit arguments'"
     ]
    }
   ],
   "source": [
    "# create a quantum circuit with 32 qubits (2 per cell)\n",
    "n_cells = 16\n",
    "n_qubits = n_cells * 2\n",
    "\n",
    "# Each cell is represented by 2 qubits: (msb, lsb)\n",
    "cells = [(2*i, 2*i+1) for i in range(16)]\n",
    "\n",
    "# Allocate ancillas: 3 for equality checks, 14 for AND tree (ceil(log2(72))=7, but binary tree for 72 inputs needs 71-1=70/2=35, but we use a small number for demo)\n",
    "anc_eq = [n_qubits + i for i in range(3)]\n",
    "anc_tree = [n_qubits + 3 + i for i in range(14)]\n",
    "allgood = n_qubits + 3 + 14\n",
    "phase = n_qubits + 3 + 14 + 1\n",
    "\n",
    "total_qubits= phase + 1\n",
    "\n",
    "qc = QuantumCircuit(total_qubits)\n",
    "\n",
    "# Initialize all qubits in superposition (all possible assignments)\n",
    "qc.h(range(n_qubits))\n",
    "\n",
    "# Prepare phase ancilla in |-> state\n",
    "qc.h(phase)\n",
    "qc.z(phase)\n",
    "\n",
    "# Prepare clues as a dict: {cell_index: value}\n",
    "clues = {i: int(v) for i, v in np.ndenumerate(sudoku) if v != 0}\n",
    "clues = {r*4 + c: v for (r, c), v in clues.items()}\n",
    "\n",
    "# # Call the oracle function\n",
    "print(anc_eq)\n",
    "print(anc_tree)\n",
    "print(allgood)\n",
    "print(phase)\n",
    "oracle_4x4_sudoku(qc, cells, anc_eq, anc_tree, allgood, phase, clues)\n",
    "\n",
    "# Show the circuit\n",
    "qc.draw('mpl')"
   ]
  }
 ],
 "metadata": {
  "kernelspec": {
   "display_name": ".venv",
   "language": "python",
   "name": "python3"
  },
  "language_info": {
   "codemirror_mode": {
    "name": "ipython",
    "version": 3
   },
   "file_extension": ".py",
   "mimetype": "text/x-python",
   "name": "python",
   "nbconvert_exporter": "python",
   "pygments_lexer": "ipython3",
   "version": "3.11.9"
  }
 },
 "nbformat": 4,
 "nbformat_minor": 5
}
