{
 "cells": [
  {
   "cell_type": "markdown",
   "id": "8e91dbab",
   "metadata": {},
   "source": [
    "# Find traingles in graph using grover algo\n",
    "\n",
    "from https://github.com/Qiskit/textbook/blob/main/notebooks/ch-algorithms/grover.ipynb"
   ]
  },
  {
   "cell_type": "code",
   "execution_count": 11,
   "id": "d37ed16d",
   "metadata": {},
   "outputs": [],
   "source": [
    "from qiskit import QuantumCircuit, QuantumRegister, ClassicalRegister, transpile\n",
    "from qiskit_aer import AerSimulator\n",
    "from qiskit.visualization import plot_histogram\n",
    "from qiskit_ibm_runtime.fake_provider import FakeEssexV2\n",
    "from qiskit_ibm_runtime import EstimatorV2 as Estimator\n",
    "from qiskit.qasm2 import dumps, dump\n",
    "\n",
    "import numpy as np\n",
    "import math"
   ]
  },
  {
   "cell_type": "code",
   "execution_count": 5,
   "id": "a990eaf0",
   "metadata": {},
   "outputs": [],
   "source": [
    "#Edges list\n",
    "edges =[(0, 1), (0, 2), (1, 2), (2, 3)]\n",
    "#Number of nodes\n",
    "n_nodes = 4"
   ]
  },
  {
   "cell_type": "code",
   "execution_count": 6,
   "id": "852ba294",
   "metadata": {},
   "outputs": [],
   "source": [
    "#We used the W state implementation from W state in reference 6\n",
    "def control_rotation (qcir,cQbit,tQbit,theta):\n",
    "    \"\"\" Create an intermediate controlled rotation using only unitary gate and controlled-NOT\n",
    "    \n",
    "    Args:\n",
    "    qcir: QuantumCircuit instance to apply the controlled rotation to.\n",
    "    cQbit: control qubit. \n",
    "    tQbit: target qubit.\n",
    "    theta: rotation angle.\n",
    "    \n",
    "    Returns:\n",
    "    A modified version of the QuantumCircuit instance with control rotation applied.\n",
    "    \n",
    "    \"\"\"\n",
    "    theta_dash = math.asin(math.cos(math.radians(theta/2)))\n",
    "    qcir.u(theta_dash,0,0,tQbit)\n",
    "    qcir.cx(cQbit,tQbit)\n",
    "    qcir.u(-theta_dash,0,0,tQbit)\n",
    "    return qcir\n",
    "\n",
    "\n",
    "def wn (qcir,qbits): \n",
    "    \"\"\" Create the W-state using the control-rotation function.\n",
    "    \n",
    "    Args:\n",
    "    qcir: QuantumCircuit instance used to construct the W-state.\n",
    "    qbits: the qubits used to construct the W-state.\n",
    "    \n",
    "    Returns:\n",
    "    A modified version of the QuantumCircuit instance with the W-state construction gates.\n",
    "    \n",
    "    \"\"\"\n",
    "    for i in range(len(qbits)):\n",
    "        if i == 0:\n",
    "            qcir.x(qbits[0])\n",
    "            qcir.barrier()\n",
    "        else:\n",
    "            p = 1/(len(qbits)-(i-1))\n",
    "            theta = math.degrees(math.acos(math.sqrt(p)))\n",
    "            theta = 2* theta\n",
    "            qcir = control_rotation(qcir,qbits[i-1],qbits[i],theta)\n",
    "            qcir.cx(qbits[i],qbits[i-1])\n",
    "            qcir.barrier()\n",
    "    return qcir,qbits\n",
    "\n",
    "sub_qbits = QuantumRegister(n_nodes)\n",
    "sub_cir = QuantumCircuit(sub_qbits, name=\"state_prep\")\n",
    "sub_cir, sub_qbits = wn(sub_cir, sub_qbits)\n",
    "sub_cir.x(sub_qbits)\n",
    "stat_prep = sub_cir.to_instruction()\n",
    "inv_stat_prep = sub_cir.inverse().to_instruction()"
   ]
  },
  {
   "cell_type": "markdown",
   "id": "6be37a93",
   "metadata": {},
   "source": [
    "# the oracle"
   ]
  },
  {
   "cell_type": "code",
   "execution_count": 17,
   "id": "14bd73df",
   "metadata": {},
   "outputs": [],
   "source": [
    "def edge_counter(qc,qubits,anc,flag_qubit,k):\n",
    "    bin_k = bin(k)[2:][::-1]\n",
    "    l = []\n",
    "    for i in range(len(bin_k)):\n",
    "        if int(bin_k[i]) == 1:\n",
    "            l.append(qubits[i])\n",
    "    qc.mcx(l,flag_qubit,[anc])\n",
    "    \n",
    "    \n",
    "def oracle(n_nodes, edges, qc, nodes_qubits, edge_anc, ancilla, neg_base):\n",
    "    k = 3 #k is the number of edges, in case of a triangle, it's 3\n",
    "    #1- edge counter\n",
    "    #forward circuit\n",
    "    qc.barrier()\n",
    "    qc.ccx(nodes_qubits[edges[0][0]],nodes_qubits[edges[0][1]],edge_anc[0])\n",
    "    for i in range(1,len(edges)):\n",
    "        qc.mcx([nodes_qubits[edges[i][0]],nodes_qubits[edges[i][1]],edge_anc[0]], edge_anc[1], [ancilla[0]])\n",
    "        qc.ccx(nodes_qubits[edges[i][0]],nodes_qubits[edges[i][1]],edge_anc[0])\n",
    "    #----------------------------------------------------------------------------------------------------------\n",
    "     #Edges check Qubit\n",
    "    edg_k = int((k/2)*(k-1))\n",
    "    edge_counter(qc,edge_anc,ancilla[0],neg_base[0],edg_k)\n",
    "    #----------------------------------------------------------------------------------------------------------\n",
    "\n",
    "    #4- Reverse edge count\n",
    "    for i in range(len(edges)-1,0,-1):\n",
    "        qc.ccx(nodes_qubits[edges[i][0]],nodes_qubits[edges[i][1]],edge_anc[0])\n",
    "        qc.mcx([nodes_qubits[edges[i][0]],nodes_qubits[edges[i][1]],edge_anc[0]], edge_anc[1], [ancilla[0]])\n",
    "    qc.ccx(nodes_qubits[edges[0][0]],nodes_qubits[edges[0][1]],edge_anc[0])\n",
    "    qc.barrier()"
   ]
  },
  {
   "cell_type": "markdown",
   "id": "4c1dd26e",
   "metadata": {},
   "source": [
    "# diffuser"
   ]
  },
  {
   "cell_type": "code",
   "execution_count": 8,
   "id": "b1534eaa",
   "metadata": {},
   "outputs": [],
   "source": [
    "def cnz(qc, num_control, node, anc):\n",
    "    \"\"\"Construct a multi-controlled Z gate\n",
    "    \n",
    "    Args:\n",
    "    num_control :  number of control qubits of cnz gate\n",
    "    node :             node qubits\n",
    "    anc :               ancillaly qubits\n",
    "    \"\"\"\n",
    "    if num_control>2:\n",
    "        qc.ccx(node[0], node[1], anc[0])\n",
    "        for i in range(num_control-2):\n",
    "            qc.ccx(node[i+2], anc[i], anc[i+1])\n",
    "        qc.cz(anc[num_control-2], node[num_control])\n",
    "        for i in range(num_control-2)[::-1]:\n",
    "            qc.ccx(node[i+2], anc[i], anc[i+1])\n",
    "        qc.ccx(node[0], node[1], anc[0])\n",
    "    if num_control==2:\n",
    "        qc.h(node[2])\n",
    "        qc.ccx(node[0], node[1], node[2])\n",
    "        qc.h(node[2])\n",
    "    if num_control==1:\n",
    "        qc.cz(node[0], node[1])\n",
    "\n",
    "def grover_diff(qc, nodes_qubits,edge_anc,ancilla,stat_prep,inv_stat_prep):\n",
    "    qc.append(inv_stat_prep,qargs=nodes_qubits)\n",
    "    qc.x(nodes_qubits)\n",
    "    #====================================================\n",
    "        #3 control qubits Z gate\n",
    "    cnz(qc,len(nodes_qubits)-1,nodes_qubits[::-1],ancilla)\n",
    "    #====================================================\n",
    "    qc.x(nodes_qubits)\n",
    "    qc.append(stat_prep,qargs=nodes_qubits) "
   ]
  },
  {
   "cell_type": "markdown",
   "id": "1036b5fe",
   "metadata": {},
   "source": [
    "# putting it all together"
   ]
  },
  {
   "cell_type": "code",
   "execution_count": 9,
   "id": "62ee90e0",
   "metadata": {},
   "outputs": [],
   "source": [
    "# Grover algo function\n",
    "def grover(n_nodes,stat_prep,inv_stat_prep):\n",
    "    #N = 2**n_nodes  # for optimal iterations count if the state prep is done using only H gates.\n",
    "    N = math.comb(n_nodes, 3) #Since we are using W-state to perform initial preparation.\n",
    "    nodes_qubits = QuantumRegister(n_nodes, name='nodes')\n",
    "    edge_anc = QuantumRegister(2, name='edge_anc')\n",
    "    ancilla = QuantumRegister(n_nodes-2, name = 'cccx_diff_anc')\n",
    "    neg_base = QuantumRegister(1, name='check_qubits')\n",
    "    class_bits = ClassicalRegister(n_nodes, name='class_reg')\n",
    "    tri_flag = ClassicalRegister(3, name='tri_flag')\n",
    "    qc = QuantumCircuit(nodes_qubits, edge_anc, ancilla, neg_base, class_bits, tri_flag)\n",
    "    # Initialize qunatum flag qubits in |-> state\n",
    "    qc.x(neg_base[0])\n",
    "    qc.h(neg_base[0])\n",
    "    # Initializing i/p qubits in superposition\n",
    "    qc.append(stat_prep,qargs=nodes_qubits)\n",
    "    qc.barrier()\n",
    "    # Calculate iteration count\n",
    "    iterations = math.floor(math.pi/4*math.sqrt(N))\n",
    "    # Calculate iteration count\n",
    "    for i in np.arange(iterations):\n",
    "        qc.barrier()\n",
    "        oracle(n_nodes, edges, qc, nodes_qubits, edge_anc,  ancilla, neg_base)\n",
    "        qc.barrier()\n",
    "        grover_diff(qc, nodes_qubits,edge_anc,ancilla,stat_prep,inv_stat_prep)\n",
    "    qc.measure(nodes_qubits,class_bits)\n",
    "    return qc"
   ]
  },
  {
   "cell_type": "code",
   "execution_count": 19,
   "id": "c071eedd",
   "metadata": {},
   "outputs": [
    {
     "data": {
      "text/html": [
       "<pre style=\"word-wrap: normal;white-space: pre;background: #fff0;line-height: 1.1;font-family: &quot;Courier New&quot;,Courier,monospace\">                 ┌─────────────┐      ░  ░  ░                                                                             ░  ░ ┌────────────────┐┌───┐             ┌───┐          ┌─────────────┐┌─┐         \n",
       "        nodes_0: ┤0            ├──────░──░──░───■────■────■─────────────────────────────────────────────────■────■────■───░──░─┤0               ├┤ X ├───────────■─┤ X ├──────────┤0            ├┤M├─────────\n",
       "                 │             │      ░  ░  ░   │    │    │                                                 │    │    │   ░  ░ │                │├───┤           │ └───┘┌───┐     │             │└╥┘┌─┐      \n",
       "        nodes_1: ┤1            ├──────░──░──░───■────┼────┼────■────■─────────────────────────────■────■────┼────┼────■───░──░─┤1               ├┤ X ├───────■───┼───■──┤ X ├─────┤1            ├─╫─┤M├──────\n",
       "                 │  state_prep │      ░  ░  ░   │    │    │    │    │                             │    │    │    │    │   ░  ░ │  state_prep_dg │├───┤       │   │   │  └───┘┌───┐│  state_prep │ ║ └╥┘┌─┐   \n",
       "        nodes_2: ┤2            ├──────░──░──░───┼────■────■────■────■────■────■─────────■────■────■────■────■────■────┼───░──░─┤2               ├┤ X ├──■────┼───┼───┼────■──┤ X ├┤2            ├─╫──╫─┤M├───\n",
       "                 │             │      ░  ░  ░   │    │    │    │    │    │    │         │    │    │    │    │    │    │   ░  ░ │                │├───┤  │    │   │   │    │  ├───┤│             │ ║  ║ └╥┘┌─┐\n",
       "        nodes_3: ┤3            ├──────░──░──░───┼────┼────┼────┼────┼────■────■─────────■────■────┼────┼────┼────┼────┼───░──░─┤3               ├┤ X ├──■────┼───┼───┼────■──┤ X ├┤3            ├─╫──╫──╫─┤M├\n",
       "                 └─────────────┘      ░  ░  ░ ┌─┴─┐  │  ┌─┴─┐  │  ┌─┴─┐  │  ┌─┴─┐     ┌─┴─┐  │  ┌─┴─┐  │  ┌─┴─┐  │  ┌─┴─┐ ░  ░ └────────────────┘└───┘  │    │   │   │    │  └───┘└─────────────┘ ║  ║  ║ └╥┘\n",
       "     edge_anc_0: ─────────────────────░──░──░─┤ X ├──■──┤ X ├──■──┤ X ├──■──┤ X ├──■──┤ X ├──■──┤ X ├──■──┤ X ├──■──┤ X ├─░──░──────────────────────────┼────┼───┼───┼────┼───────────────────────╫──╫──╫──╫─\n",
       "                                      ░  ░  ░ └───┘┌─┴─┐└───┘┌─┴─┐└───┘┌─┴─┐└───┘  │  └───┘┌─┴─┐└───┘┌─┴─┐└───┘┌─┴─┐└───┘ ░  ░                          │    │   │   │    │                       ║  ║  ║  ║ \n",
       "     edge_anc_1: ─────────────────────░──░──░──────┤ X ├─────┤ X ├─────┤ X ├───────■───────┤ X ├─────┤ X ├─────┤ X ├──────░──░──────────────────────────┼────┼───┼───┼────┼───────────────────────╫──╫──╫──╫─\n",
       "                                      ░  ░  ░      └───┘     └───┘     └───┘       │       └───┘     └───┘     └───┘      ░  ░                        ┌─┴─┐  │   │   │  ┌─┴─┐                     ║  ║  ║  ║ \n",
       "cccx_diff_anc_0: ─────────────────────░──░──░──────────────────────────────────────┼──────────────────────────────────────░──░────────────────────────┤ X ├──■───┼───■──┤ X ├─────────────────────╫──╫──╫──╫─\n",
       "                                      ░  ░  ░                                      │                                      ░  ░                        └───┘┌─┴─┐ │ ┌─┴─┐└───┘                     ║  ║  ║  ║ \n",
       "cccx_diff_anc_1: ─────────────────────░──░──░──────────────────────────────────────┼──────────────────────────────────────░──░─────────────────────────────┤ X ├─■─┤ X ├──────────────────────────╫──╫──╫──╫─\n",
       "                      ┌───┐     ┌───┐ ░  ░  ░                                    ┌─┴─┐                                    ░  ░                             └───┘   └───┘                          ║  ║  ║  ║ \n",
       "   check_qubits: ─────┤ X ├─────┤ H ├─░──░──░────────────────────────────────────┤ X ├────────────────────────────────────░──░────────────────────────────────────────────────────────────────────╫──╫──╫──╫─\n",
       "                      └───┘     └───┘ ░  ░  ░                                    └───┘                                    ░  ░                                                                    ║  ║  ║  ║ \n",
       "    class_reg: 4/═════════════════════════════════════════════════════════════════════════════════════════════════════════════════════════════════════════════════════════════════════════════════╩══╩══╩══╩═\n",
       "                                                                                                                                                                                                  0  1  2  3 \n",
       "     tri_flag: 3/════════════════════════════════════════════════════════════════════════════════════════════════════════════════════════════════════════════════════════════════════════════════════════════\n",
       "                                                                                                                                                                                                             </pre>"
      ],
      "text/plain": [
       "                 ┌─────────────┐      ░  ░  ░                                                                             ░  ░ ┌────────────────┐┌───┐             ┌───┐          ┌─────────────┐┌─┐         \n",
       "        nodes_0: ┤0            ├──────░──░──░───■────■────■─────────────────────────────────────────────────■────■────■───░──░─┤0               ├┤ X ├───────────■─┤ X ├──────────┤0            ├┤M├─────────\n",
       "                 │             │      ░  ░  ░   │    │    │                                                 │    │    │   ░  ░ │                │├───┤           │ └───┘┌───┐     │             │└╥┘┌─┐      \n",
       "        nodes_1: ┤1            ├──────░──░──░───■────┼────┼────■────■─────────────────────────────■────■────┼────┼────■───░──░─┤1               ├┤ X ├───────■───┼───■──┤ X ├─────┤1            ├─╫─┤M├──────\n",
       "                 │  state_prep │      ░  ░  ░   │    │    │    │    │                             │    │    │    │    │   ░  ░ │  state_prep_dg │├───┤       │   │   │  └───┘┌───┐│  state_prep │ ║ └╥┘┌─┐   \n",
       "        nodes_2: ┤2            ├──────░──░──░───┼────■────■────■────■────■────■─────────■────■────■────■────■────■────┼───░──░─┤2               ├┤ X ├──■────┼───┼───┼────■──┤ X ├┤2            ├─╫──╫─┤M├───\n",
       "                 │             │      ░  ░  ░   │    │    │    │    │    │    │         │    │    │    │    │    │    │   ░  ░ │                │├───┤  │    │   │   │    │  ├───┤│             │ ║  ║ └╥┘┌─┐\n",
       "        nodes_3: ┤3            ├──────░──░──░───┼────┼────┼────┼────┼────■────■─────────■────■────┼────┼────┼────┼────┼───░──░─┤3               ├┤ X ├──■────┼───┼───┼────■──┤ X ├┤3            ├─╫──╫──╫─┤M├\n",
       "                 └─────────────┘      ░  ░  ░ ┌─┴─┐  │  ┌─┴─┐  │  ┌─┴─┐  │  ┌─┴─┐     ┌─┴─┐  │  ┌─┴─┐  │  ┌─┴─┐  │  ┌─┴─┐ ░  ░ └────────────────┘└───┘  │    │   │   │    │  └───┘└─────────────┘ ║  ║  ║ └╥┘\n",
       "     edge_anc_0: ─────────────────────░──░──░─┤ X ├──■──┤ X ├──■──┤ X ├──■──┤ X ├──■──┤ X ├──■──┤ X ├──■──┤ X ├──■──┤ X ├─░──░──────────────────────────┼────┼───┼───┼────┼───────────────────────╫──╫──╫──╫─\n",
       "                                      ░  ░  ░ └───┘┌─┴─┐└───┘┌─┴─┐└───┘┌─┴─┐└───┘  │  └───┘┌─┴─┐└───┘┌─┴─┐└───┘┌─┴─┐└───┘ ░  ░                          │    │   │   │    │                       ║  ║  ║  ║ \n",
       "     edge_anc_1: ─────────────────────░──░──░──────┤ X ├─────┤ X ├─────┤ X ├───────■───────┤ X ├─────┤ X ├─────┤ X ├──────░──░──────────────────────────┼────┼───┼───┼────┼───────────────────────╫──╫──╫──╫─\n",
       "                                      ░  ░  ░      └───┘     └───┘     └───┘       │       └───┘     └───┘     └───┘      ░  ░                        ┌─┴─┐  │   │   │  ┌─┴─┐                     ║  ║  ║  ║ \n",
       "cccx_diff_anc_0: ─────────────────────░──░──░──────────────────────────────────────┼──────────────────────────────────────░──░────────────────────────┤ X ├──■───┼───■──┤ X ├─────────────────────╫──╫──╫──╫─\n",
       "                                      ░  ░  ░                                      │                                      ░  ░                        └───┘┌─┴─┐ │ ┌─┴─┐└───┘                     ║  ║  ║  ║ \n",
       "cccx_diff_anc_1: ─────────────────────░──░──░──────────────────────────────────────┼──────────────────────────────────────░──░─────────────────────────────┤ X ├─■─┤ X ├──────────────────────────╫──╫──╫──╫─\n",
       "                      ┌───┐     ┌───┐ ░  ░  ░                                    ┌─┴─┐                                    ░  ░                             └───┘   └───┘                          ║  ║  ║  ║ \n",
       "   check_qubits: ─────┤ X ├─────┤ H ├─░──░──░────────────────────────────────────┤ X ├────────────────────────────────────░──░────────────────────────────────────────────────────────────────────╫──╫──╫──╫─\n",
       "                      └───┘     └───┘ ░  ░  ░                                    └───┘                                    ░  ░                                                                    ║  ║  ║  ║ \n",
       "    class_reg: 4/═════════════════════════════════════════════════════════════════════════════════════════════════════════════════════════════════════════════════════════════════════════════════╩══╩══╩══╩═\n",
       "                                                                                                                                                                                                  0  1  2  3 \n",
       "     tri_flag: 3/════════════════════════════════════════════════════════════════════════════════════════════════════════════════════════════════════════════════════════════════════════════════════════════\n",
       "                                                                                                                                                                                                             "
      ]
     },
     "execution_count": 19,
     "metadata": {},
     "output_type": "execute_result"
    }
   ],
   "source": [
    "qc = grover(n_nodes,stat_prep,inv_stat_prep)\n",
    "qc.draw(fold=-1)"
   ]
  },
  {
   "cell_type": "markdown",
   "id": "93ac59d8",
   "metadata": {},
   "source": [
    "# simulate"
   ]
  },
  {
   "cell_type": "code",
   "execution_count": 20,
   "id": "bfac88c8",
   "metadata": {},
   "outputs": [
    {
     "data": {
      "image/png": "[encoded data removed]",
      "text/plain": [
       "<Figure size 640x480 with 1 Axes>"
      ]
     },
     "execution_count": 20,
     "metadata": {},
     "output_type": "execute_result"
    }
   ],
   "source": [
    "# Simulate and plot results\n",
    "qasm_simulator = AerSimulator()\n",
    "\n",
    "transpiled_qc = transpile(qc, qasm_simulator)\n",
    "result = qasm_simulator.run(transpiled_qc).result()\n",
    "\n",
    "res = result.get_counts(qc)\n",
    "plot_histogram(res)"
   ]
  }
 ],
 "metadata": {
  "kernelspec": {
   "display_name": ".venv",
   "language": "python",
   "name": "python3"
  },
  "language_info": {
   "codemirror_mode": {
    "name": "ipython",
    "version": 3
   },
   "file_extension": ".py",
   "mimetype": "text/x-python",
   "name": "python",
   "nbconvert_exporter": "python",
   "pygments_lexer": "ipython3",
   "version": "3.11.9"
  }
 },
 "nbformat": 4,
 "nbformat_minor": 5
}
