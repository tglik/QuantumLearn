{
 "cells": [
  {
   "cell_type": "markdown",
   "id": "255c2344",
   "metadata": {},
   "source": [
    "# Deutsch–Jozsa on Amazon Braket\n",
    "\n",
    "This notebook ports the Qiskit version to Amazon Braket and shows how to run on local and AWS-managed simulators, with an optional QPU path."
   ]
  },
  {
   "cell_type": "markdown",
   "id": "9b99f91d",
   "metadata": {},
   "source": [
    "## 1) Install and Import Amazon Braket SDK\n",
    "\n",
    "If you're running locally, the cell below installs the Braket SDK and helpers. On AWS Braket notebooks this may already be installed."
   ]
  },
  {
   "cell_type": "code",
   "execution_count": 11,
   "id": "55118d31",
   "metadata": {},
   "outputs": [],
   "source": [
    "# Optional: install packages if missing (safe to rerun)\n",
    "# Note: If you're on AWS Braket notebook instances, these are preinstalled.\n",
    "import sys, subprocess\n",
    "\n",
    "def pip_install(pkg):\n",
    "    try:\n",
    "        __import__(pkg)\n",
    "    except Exception:\n",
    "        subprocess.check_call([sys.executable, \"-m\", \"pip\", \"install\", \"--quiet\", pkg])\n",
    "\n",
    "for pkg in [\"amazon-braket-sdk\", \"boto3\", \"matplotlib\"]:\n",
    "    pip_install(pkg)\n",
    "\n",
    "from braket.circuits import Circuit\n",
    "from braket.aws import AwsDevice, AwsQuantumTask, AwsSession\n",
    "from braket.devices import LocalSimulator\n",
    "import boto3\n",
    "import numpy as np\n",
    "import matplotlib.pyplot as plt"
   ]
  },
  {
   "cell_type": "markdown",
   "id": "5f6571f2",
   "metadata": {},
   "source": [
    "## 2) Configure AWS Credentials and Create Braket Session\n",
    "\n",
    "Set your region and (optionally) profile. We'll verify access by calling STS and listing a device."
   ]
  },
  {
   "cell_type": "code",
   "execution_count": 12,
   "id": "c02cbbfa",
   "metadata": {},
   "outputs": [
    {
     "name": "stdout",
     "output_type": "stream",
     "text": [
      "Warning: Could not verify AWS credentials. Set AWS_PROFILE or configure credentials.\n",
      "Unable to locate credentials\n",
      "Braket session created.\n",
      "Warning: Could not query SV1 (likely missing credentials or permissions): Unable to locate credentials\n",
      "Braket session created.\n",
      "Warning: Could not query SV1 (likely missing credentials or permissions): Unable to locate credentials\n"
     ]
    }
   ],
   "source": [
    "import os\n",
    "REGION = os.environ.get(\"AWS_REGION\", \"us-west-2\")\n",
    "AWS_PROFILE = os.environ.get(\"AWS_PROFILE\", None)  # e.g., \"default\"\n",
    "\n",
    "# Optional: set the profile for boto3 session\n",
    "boto3_session = boto3.Session(profile_name=AWS_PROFILE, region_name=REGION) if AWS_PROFILE else boto3.Session(region_name=REGION)\n",
    "sts = boto3_session.client(\"sts\")\n",
    "try:\n",
    "    ident = sts.get_caller_identity()\n",
    "    print(f\"AWS account: {ident['Account']}, user: {ident.get('Arn','?')}\")\n",
    "except Exception as e:\n",
    "    print(\"Warning: Could not verify AWS credentials. Set AWS_PROFILE or configure credentials.\")\n",
    "    print(e)\n",
    "\n",
    "# Create a Braket session (region comes from the boto3 session)\n",
    "braket_session = AwsSession(boto_session=boto3_session)\n",
    "print(\"Braket session created.\")\n",
    "\n",
    "# Quick device lookup (SV1)\n",
    "try:\n",
    "    sv1 = AwsDevice(\"arn:aws:braket:::device/quantum-simulator/amazon/sv1\", aws_session=braket_session)\n",
    "    print(\"SV1 status:\", sv1.status())\n",
    "except Exception as e:\n",
    "    print(\"Warning: Could not query SV1 (likely missing credentials or permissions):\", e)"
   ]
  },
  {
   "cell_type": "markdown",
   "id": "4cf9fa5a",
   "metadata": {},
   "source": [
    "## 3) Define Deutsch–Jozsa Oracle in Braket (balanced/constant)\n",
    "\n",
    "We implement the standard oracle using X pre/post around multi-CNOTs to the ancilla."
   ]
  },
  {
   "cell_type": "code",
   "execution_count": 13,
   "id": "67dbb4fc",
   "metadata": {},
   "outputs": [],
   "source": [
    "from typing import Literal\n",
    "\n",
    "def dj_oracle(case: Literal[\"balanced\", \"constant\"], n: int, seed: int | None = 1234) -> Circuit:\n",
    "    rng = np.random.default_rng(seed)\n",
    "    c = Circuit()\n",
    "    anc = n  # use qubit n as ancilla\n",
    "    if case == \"balanced\":\n",
    "        # Choose a non-zero bitmask b in [1, 2^n - 1]\n",
    "        b = int(rng.integers(1, 2**n))\n",
    "        b_str = format(b, f\"0{n}b\")\n",
    "        # Pre X\n",
    "        for q, bit in enumerate(b_str):\n",
    "            if bit == \"1\":\n",
    "                c.x(q)\n",
    "        # CNOT from each input qubit to ancilla\n",
    "        for q in range(n):\n",
    "            c.cnot(control=q, target=anc)\n",
    "        # Post X\n",
    "        for q, bit in enumerate(b_str):\n",
    "            if bit == \"1\":\n",
    "                c.x(q)\n",
    "    elif case == \"constant\":\n",
    "        output = int(rng.integers(0, 2))\n",
    "        if output == 1:\n",
    "            c.x(anc)\n",
    "    else:\n",
    "        raise ValueError(\"case must be 'balanced' or 'constant'\")\n",
    "    return c"
   ]
  },
  {
   "cell_type": "markdown",
   "id": "658677a2",
   "metadata": {},
   "source": [
    "## 4) Build Deutsch–Jozsa Circuit (n inputs + 1 ancilla)\n",
    "\n",
    "Prepare ancilla in |->, apply H on inputs, call the oracle, apply H on inputs, and measure only inputs."
   ]
  },
  {
   "cell_type": "code",
   "execution_count": 14,
   "id": "f3a3c66e",
   "metadata": {},
   "outputs": [],
   "source": [
    "def dj_algorithm(oracle: Circuit, n: int) -> Circuit:\n",
    "    c = Circuit()\n",
    "    anc = n\n",
    "    # Prepare ancilla in |-> = H X |0>\n",
    "    c.x(anc).h(anc)\n",
    "    # H on all inputs\n",
    "    for q in range(n):\n",
    "        c.h(q)\n",
    "    # Append oracle (assumes it uses same qubit indexing)\n",
    "    c += oracle\n",
    "    # H on inputs again\n",
    "    for q in range(n):\n",
    "        c.h(q)\n",
    "    # Measure inputs only\n",
    "    for q in range(n):\n",
    "        c.measure(q)\n",
    "    return c"
   ]
  },
  {
   "cell_type": "markdown",
   "id": "fe049e76",
   "metadata": {},
   "source": [
    "## 5) Utility: Normalize Measurement Counts to Input Register\n",
    "\n",
    "Braket returns bitstrings least-significant-bit first per shot. We'll map to big-endian strings over input qubits only."
   ]
  },
  {
   "cell_type": "code",
   "execution_count": 15,
   "id": "4aaa7984",
   "metadata": {},
   "outputs": [],
   "source": [
    "from collections import Counter\n",
    "\n",
    "def normalize_counts_input_only(measurement_counts: dict[str, int], n: int) -> dict[str, int]:\n",
    "    \"\"\"\n",
    "    Convert raw Braket counts (bitstrings include only measured qubits in little-endian)\n",
    "    to big-endian strings over the n input qubits. Since we measure only inputs [0..n-1],\n",
    "    we just reverse each key to big-endian.\n",
    "    \"\"\"\n",
    "    norm = Counter()\n",
    "    for k, v in measurement_counts.items():\n",
    "        # Braket uses little-endian: reverse to big-endian\n",
    "        norm[k[::-1]] += v\n",
    "    return dict(norm)\n",
    "\n",
    "\n",
    "def prob_of(bitstring: str, counts: dict[str, int]) -> float:\n",
    "    total = sum(counts.values()) or 1\n",
    "    return counts.get(bitstring, 0) / total\n",
    "\n",
    "\n",
    "def plot_hist(counts: dict[str, int], title: str = \"Counts\"):\n",
    "    keys = sorted(counts.keys())\n",
    "    vals = [counts[k] for k in keys]\n",
    "    plt.figure(figsize=(10, 4))\n",
    "    plt.bar(range(len(keys)), vals)\n",
    "    plt.xticks(range(len(keys)), keys, rotation=90)\n",
    "    plt.title(title)\n",
    "    plt.tight_layout()\n",
    "    plt.show()"
   ]
  },
  {
   "cell_type": "markdown",
   "id": "a8fe3ae2",
   "metadata": {},
   "source": [
    "## 6) Visualize Circuit (ASCII and OpenQASM)\n",
    "\n",
    "We'll build an example circuit and show its diagram and IR."
   ]
  },
  {
   "cell_type": "code",
   "execution_count": 16,
   "id": "7def09f0",
   "metadata": {},
   "outputs": [
    {
     "name": "stdout",
     "output_type": "stream",
     "text": [
      "Circuit diagram:\n",
      "\n",
      "T  : │  0  │  1  │  2  │  3  │  4  │  5  │  6  │  7  │  8  │  9  │\n",
      "      ┌───┐             ┌───┐                               ┌───┐ \n",
      "q0 : ─┤ H ├─────────●───┤ H ├───────────────────────────────┤ M ├─\n",
      "      └───┘         │   └───┘                               └───┘ \n",
      "      ┌───┐         │         ┌───┐                         ┌───┐ \n",
      "q1 : ─┤ H ├─────────┼─────●───┤ H ├─────────────────────────┤ M ├─\n",
      "      └───┘         │     │   └───┘                         └───┘ \n",
      "      ┌───┐         │     │         ┌───┐                   ┌───┐ \n",
      "q2 : ─┤ H ├─────────┼─────┼─────●───┤ H ├───────────────────┤ M ├─\n",
      "      └───┘         │     │     │   └───┘                   └───┘ \n",
      "      ┌───┐ ┌───┐   │     │     │         ┌───┐ ┌───┐       ┌───┐ \n",
      "q3 : ─┤ H ├─┤ X ├───┼─────┼─────┼─────●───┤ X ├─┤ H ├───────┤ M ├─\n",
      "      └───┘ └───┘   │     │     │     │   └───┘ └───┘       └───┘ \n",
      "      ┌───┐ ┌───┐   │     │     │     │         ┌───┐ ┌───┐ ┌───┐ \n",
      "q4 : ─┤ H ├─┤ X ├───┼─────┼─────┼─────┼─────●───┤ X ├─┤ H ├─┤ M ├─\n",
      "      └───┘ └───┘   │     │     │     │     │   └───┘ └───┘ └───┘ \n",
      "      ┌───┐ ┌───┐ ┌─┴─┐ ┌─┴─┐ ┌─┴─┐ ┌─┴─┐ ┌─┴─┐                   \n",
      "q5 : ─┤ X ├─┤ H ├─┤ X ├─┤ X ├─┤ X ├─┤ X ├─┤ X ├───────────────────\n",
      "      └───┘ └───┘ └───┘ └───┘ └───┘ └───┘ └───┘                   \n",
      "T  : │  0  │  1  │  2  │  3  │  4  │  5  │  6  │  7  │  8  │  9  │\n",
      "IR export not available: measure instructions are not supported with JAQCD.\n"
     ]
    }
   ],
   "source": [
    "# Example visualization for n=5\n",
    "n_demo = 5\n",
    "oracle_demo = dj_oracle(\"balanced\", n_demo, seed=42)\n",
    "dj_demo = dj_algorithm(oracle_demo, n_demo)\n",
    "print(\"Circuit diagram:\\n\")\n",
    "print(dj_demo)\n",
    "\n",
    "# IR (OpenQASM 3 when available; otherwise JSON IR)\n",
    "try:\n",
    "    ir = dj_demo.to_ir()\n",
    "    print(\"\\nCircuit IR:\\n\", ir)\n",
    "except Exception as e:\n",
    "    print(\"IR export not available:\", e)"
   ]
  },
  {
   "cell_type": "markdown",
   "id": "e63f8946",
   "metadata": {},
   "source": [
    "## 7) Run on Local Simulator (braket_sv) and Plot Histogram\n",
    "\n",
    "We expect constant oracles to yield 0^n with probability ~1; balanced should yield 0^n with probability ~0."
   ]
  },
  {
   "cell_type": "code",
   "execution_count": 17,
   "id": "3fe34b5d",
   "metadata": {},
   "outputs": [
    {
     "name": "stdout",
     "output_type": "stream",
     "text": [
      "P(0^n) balanced: 0.0\n"
     ]
    },
    {
     "data": {
      "image/png": "[encoded data removed]",
      "text/plain": [
       "<Figure size 1000x400 with 1 Axes>"
      ]
     },
     "metadata": {},
     "output_type": "display_data"
    },
    {
     "name": "stdout",
     "output_type": "stream",
     "text": [
      "P(0^n) constant: 1.0\n"
     ]
    },
    {
     "data": {
      "image/png": "[encoded data removed]",
      "text/plain": [
       "<Figure size 1000x400 with 1 Axes>"
      ]
     },
     "metadata": {},
     "output_type": "display_data"
    }
   ],
   "source": [
    "shots = 2000\n",
    "\n",
    "# Balanced test\n",
    "n = 5\n",
    "oracle = dj_oracle(\"balanced\", n, seed=7)\n",
    "dj_circ = dj_algorithm(oracle, n)\n",
    "local = LocalSimulator(\"braket_sv\")\n",
    "res = local.run(dj_circ, shots=shots).result()\n",
    "counts_balanced = normalize_counts_input_only(res.measurement_counts, n)\n",
    "print(\"P(0^n) balanced:\", prob_of(\"0\"*n, counts_balanced))\n",
    "plot_hist(counts_balanced, title=f\"Balanced DJ (n={n}) on braket_sv\")\n",
    "\n",
    "# Constant test\n",
    "oracle_c = dj_oracle(\"constant\", n, seed=7)\n",
    "dj_circ_c = dj_algorithm(oracle_c, n)\n",
    "res_c = local.run(dj_circ_c, shots=shots).result()\n",
    "counts_constant = normalize_counts_input_only(res_c.measurement_counts, n)\n",
    "print(\"P(0^n) constant:\", prob_of(\"0\"*n, counts_constant))\n",
    "plot_hist(counts_constant, title=f\"Constant DJ (n={n}) on braket_sv\")"
   ]
  },
  {
   "cell_type": "markdown",
   "id": "e6fef761",
   "metadata": {},
   "source": [
    "## 8) Run on Managed Simulator SV1 (AWS) and Plot Histogram\n",
    "\n",
    "SV1 supports up to around 34 qubits for full statevector. We'll run with a modest n so that n+1 <= 34."
   ]
  },
  {
   "cell_type": "code",
   "execution_count": 20,
   "id": "9c892351",
   "metadata": {},
   "outputs": [
    {
     "name": "stdout",
     "output_type": "stream",
     "text": [
      "Skipping SV1 submit: set BRAKET_S3_BUCKET and BRAKET_S3_PREFIX to run on AWS.\n"
     ]
    }
   ],
   "source": [
    "# Configure S3 bucket/prefix for Braket task results\n",
    "# Ensure the bucket exists in your chosen region and you have write permissions\n",
    "S3_BUCKET = os.environ.get(\"BRAKET_S3_BUCKET\", \"YOUR-BRAKET-BUCKET\")\n",
    "S3_PREFIX = os.environ.get(\"BRAKET_S3_PREFIX\", \"braket-dj\")\n",
    "\n",
    "n = 20  # keep n+1 <= ~34 for SV1; adjust as needed\n",
    "oracle = dj_oracle(\"balanced\", n, seed=123)\n",
    "dj_circ = dj_algorithm(oracle, n)\n",
    "\n",
    "sv1_device = \"sv1\"  # already initialized with session\n",
    "\n",
    "if S3_BUCKET == \"YOUR-BRAKET-BUCKET\":\n",
    "    print(\"Skipping SV1 submit: set BRAKET_S3_BUCKET and BRAKET_S3_PREFIX to run on AWS.\")\n",
    "else:\n",
    "    task = sv1_device.run(dj_circ, shots=5000, s3_destination_folder=(S3_BUCKET, S3_PREFIX))\n",
    "    print(\"SV1 task id:\", task.id)\n",
    "    result = task.result()\n",
    "    counts_sv1 = normalize_counts_input_only(result.measurement_counts, n)\n",
    "    print(\"P(0^n) on SV1:\", prob_of(\"0\"*n, counts_sv1))\n",
    "    plot_hist(counts_sv1, title=f\"Balanced DJ (n={n}) on SV1\")"
   ]
  },
  {
   "cell_type": "markdown",
   "id": "57ca4ef0",
   "metadata": {},
   "source": [
    "## 9) Optional: Run on a QPU (edit ARN) with Device Constraints Check\n",
    "\n",
    "Pick a QPU ARN that supports measurements and gate set compatible with this circuit."
   ]
  },
  {
   "cell_type": "code",
   "execution_count": null,
   "id": "79297d53",
   "metadata": {},
   "outputs": [],
   "source": [
    "# Example QPU ARN (commented): adjust to your provider/account availability\n",
    "# device_arn = \"arn:aws:braket:us-west-1::device/qpu/ionq/ionQdevice\"\n",
    "# device_arn = \"arn:aws:braket:eu-west-2::device/qpu/oqc/Lucy\"\n",
    "# device_arn = \"arn:aws:braket:us-west-1::device/qpu/rigetti/Aspen-M-3\"\n",
    "\n",
    "device_arn = None  # set to one of the above to enable\n",
    "\n",
    "if device_arn and S3_BUCKET != \"YOUR-BRAKET-BUCKET\":\n",
    "    qpu = AwsDevice(device_arn, aws_session=braket_session)\n",
    "    props = qpu.properties\n",
    "    try:\n",
    "        n_qubits = props.dict()[\"paradigm\"][\"qubitCount\"]\n",
    "    except Exception:\n",
    "        n_qubits = None\n",
    "    print(\"QPU:\", qpu.name, \"status:\", qpu.status(), \"qubits:\", n_qubits)\n",
    "\n",
    "    n_qpu = 5  # small to respect connectivity and error rates\n",
    "    oracle_qpu = dj_oracle(\"balanced\", n_qpu, seed=321)\n",
    "    dj_qpu = dj_algorithm(oracle_qpu, n_qpu)\n",
    "\n",
    "    task = qpu.run(dj_qpu, shots=2000, s3_destination_folder=(S3_BUCKET, S3_PREFIX))\n",
    "    print(\"QPU task id:\", task.id)\n",
    "    result = task.result()\n",
    "    counts_qpu = normalize_counts_input_only(result.measurement_counts, n_qpu)\n",
    "    plot_hist(counts_qpu, title=f\"Balanced DJ (n={n_qpu}) on {qpu.name}\")\n",
    "else:\n",
    "    print(\"Skipping QPU run. Set device_arn and BRAKET_S3_* to enable.\")"
   ]
  },
  {
   "cell_type": "markdown",
   "id": "3425d376",
   "metadata": {},
   "source": [
    "## 10) Parameter Sweep over n and Plot Success Metric\n",
    "\n",
    "We'll sweep several n and report P(0^n) for constant and balanced oracles on a chosen device."
   ]
  },
  {
   "cell_type": "code",
   "execution_count": null,
   "id": "600ecbb1",
   "metadata": {},
   "outputs": [],
   "source": [
    "def run_on_device(circ: Circuit, device, shots: int = 2000, s3=None):\n",
    "    if isinstance(device, LocalSimulator):\n",
    "        return device.run(circ, shots=shots).result().measurement_counts\n",
    "    else:\n",
    "        task = device.run(circ, shots=shots, s3_destination_folder=s3)\n",
    "        res = task.result()\n",
    "        return res.measurement_counts\n",
    "\n",
    "\n",
    "def try_n(n: int, case: str, device, shots: int = 2000, seed: int = 7, s3=None):\n",
    "    oracle = dj_oracle(case, n, seed=seed)\n",
    "    circ = dj_algorithm(oracle, n)\n",
    "    counts = run_on_device(circ, device, shots=shots, s3=s3)\n",
    "    counts_norm = normalize_counts_input_only(counts, n)\n",
    "    p0 = prob_of(\"0\"*n, counts_norm)\n",
    "    return p0, counts_norm\n",
    "\n",
    "# Choose device depending on n\n",
    "use_sv1 = True\n",
    "if use_sv1 and S3_BUCKET != \"YOUR-BRAKET-BUCKET\":\n",
    "    device = sv1_device\n",
    "    s3_folder = (S3_BUCKET, S3_PREFIX)\n",
    "else:\n",
    "    device = LocalSimulator(\"braket_sv\")\n",
    "    s3_folder = None\n",
    "\n",
    "ns = [5, 20, 32, 45]\n",
    "ps_bal, ps_const = [], []\n",
    "for n in ns:\n",
    "    # For n > 33, switch to TN1 on AWS or stay local\n",
    "    if s3_folder and n + 1 > 34:\n",
    "        device = AwsDevice(\"arn:aws:braket:::device/quantum-simulator/amazon/tn1\", aws_session=braket_session)\n",
    "    elif not s3_folder:\n",
    "        device = LocalSimulator(\"braket_sv\")\n",
    "\n",
    "    p_const, _ = try_n(n, \"constant\", device, shots=2000, seed=11, s3=s3_folder)\n",
    "    p_bal, _ = try_n(n, \"balanced\", device, shots=2000, seed=11, s3=s3_folder)\n",
    "    ps_const.append(p_const)\n",
    "    ps_bal.append(p_bal)\n",
    "    print(f\"n={n}: P0(constant)={p_const:.3f}, P0(balanced)={p_bal:.3f}\")\n",
    "\n",
    "plt.figure(figsize=(8,5))\n",
    "plt.plot(ns, ps_const, marker='o', label='P(0^n) constant')\n",
    "plt.plot(ns, ps_bal, marker='o', label='P(0^n) balanced')\n",
    "plt.xlabel('Number of input bits n')\n",
    "plt.ylabel('Probability')\n",
    "plt.title('Deutsch–Jozsa success metric across n')\n",
    "plt.grid(True)\n",
    "plt.legend()\n",
    "plt.show()"
   ]
  },
  {
   "cell_type": "markdown",
   "id": "ec943237",
   "metadata": {},
   "source": [
    "### Notes and tips\n",
    "- Set environment variables BRAKET_S3_BUCKET and BRAKET_S3_PREFIX to enable AWS runs.\n",
    "- Ensure your AWS credentials are configured (AWS_PROFILE or default credentials), and region matches your bucket.\n",
    "- For n > 33, prefer TN1 instead of SV1. QPUs have much smaller qubit counts; start with n=4..8.\n",
    "- Costs: Managed simulators and QPUs incur charges; review pricing before running large jobs."
   ]
  }
 ],
 "metadata": {
  "kernelspec": {
   "display_name": ".venv",
   "language": "python",
   "name": "python3"
  },
  "language_info": {
   "codemirror_mode": {
    "name": "ipython",
    "version": 3
   },
   "file_extension": ".py",
   "mimetype": "text/x-python",
   "name": "python",
   "nbconvert_exporter": "python",
   "pygments_lexer": "ipython3",
   "version": "3.11.9"
  }
 },
 "nbformat": 4,
 "nbformat_minor": 5
}
