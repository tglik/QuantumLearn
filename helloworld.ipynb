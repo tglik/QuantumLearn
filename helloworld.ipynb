{
 "cells": [
  {
   "cell_type": "code",
   "execution_count": 1,
   "id": "82971753",
   "metadata": {},
   "outputs": [],
   "source": [
    "from qiskit import QuantumCircuit\n",
    "from qiskit.quantum_info import SparsePauliOp\n",
    "from qiskit.transpiler import generate_preset_pass_manager\n",
    "from qiskit_ibm_runtime import EstimatorV2 as Estimator"
   ]
  },
  {
   "cell_type": "code",
   "execution_count": 2,
   "id": "d0419b84",
   "metadata": {},
   "outputs": [
    {
     "data": {
      "image/png": "[encoded data removed]",
      "text/plain": [
       "<Figure size 287.294x200.667 with 1 Axes>"
      ]
     },
     "execution_count": 2,
     "metadata": {},
     "output_type": "execute_result"
    }
   ],
   "source": [
    "# Create a new circuit with two qubits\n",
    "qc = QuantumCircuit(2)\n",
    " \n",
    "# Add a Hadamard gate to qubit 0\n",
    "qc.h(0)\n",
    " \n",
    "# Perform a controlled-X gate on qubit 1, controlled by qubit 0\n",
    "qc.cx(0, 1)\n",
    " \n",
    "# Return a drawing of the circuit using MatPlotLib (\"mpl\").\n",
    "# These guides are written by using Jupyter notebooks, which\n",
    "# display the output of the last line of each cell.\n",
    "# If you're running this in a script, use `print(qc.draw())` to\n",
    "# print a text drawing.\n",
    "qc.draw(\"mpl\")"
   ]
  },
  {
   "cell_type": "code",
   "execution_count": 3,
   "id": "b975b7d4",
   "metadata": {},
   "outputs": [],
   "source": [
    "# Set up six different observables.\n",
    " \n",
    "observables_labels = [\"IZ\", \"IX\", \"ZI\", \"XI\", \"ZZ\", \"XX\"]\n",
    "observables = [SparsePauliOp(label) for label in observables_labels]"
   ]
  },
  {
   "cell_type": "code",
   "execution_count": 4,
   "id": "8d3ffe1a",
   "metadata": {},
   "outputs": [],
   "source": [
    "# Use the following code instead if you want to run on a simulator:\n",
    " \n",
    "from qiskit_ibm_runtime.fake_provider import FakeFez\n",
    "backend = FakeFez()\n",
    "estimator = Estimator(backend)"
   ]
  },
  {
   "cell_type": "code",
   "execution_count": 5,
   "id": "3644cb75",
   "metadata": {},
   "outputs": [
    {
     "ename": "BasicProviderError",
     "evalue": "'Number of qubits 156 is greater than maximum (24) for \"basic_simulator\".'",
     "output_type": "error",
     "traceback": [
      "\u001b[31m---------------------------------------------------------------------------\u001b[39m",
      "\u001b[31mBasicProviderError\u001b[39m                        Traceback (most recent call last)",
      "\u001b[36mCell\u001b[39m\u001b[36m \u001b[39m\u001b[32mIn[5]\u001b[39m\u001b[32m, line 10\u001b[39m\n\u001b[32m      5\u001b[39m mapped_observables = [\n\u001b[32m      6\u001b[39m     observable.apply_layout(isa_circuit.layout) \u001b[38;5;28;01mfor\u001b[39;00m observable \u001b[38;5;129;01min\u001b[39;00m observables\n\u001b[32m      7\u001b[39m ]\n\u001b[32m      9\u001b[39m job = estimator.run([(isa_circuit, mapped_observables)])\n\u001b[32m---> \u001b[39m\u001b[32m10\u001b[39m result = \u001b[43mjob\u001b[49m\u001b[43m.\u001b[49m\u001b[43mresult\u001b[49m\u001b[43m(\u001b[49m\u001b[43m)\u001b[49m\n\u001b[32m     12\u001b[39m \u001b[38;5;66;03m# This is the result of the entire submission.  You submitted one Pub,\u001b[39;00m\n\u001b[32m     13\u001b[39m \u001b[38;5;66;03m# so this contains one inner result (and some metadata of its own).\u001b[39;00m\n\u001b[32m     15\u001b[39m job_result = job.result()\n",
      "\u001b[36mFile \u001b[39m\u001b[32mc:\\Users\\tmgli\\Documents\\Source\\quantum\\.venv\\Lib\\site-packages\\qiskit\\primitives\\primitive_job.py:65\u001b[39m, in \u001b[36mPrimitiveJob.result\u001b[39m\u001b[34m(self)\u001b[39m\n\u001b[32m     63\u001b[39m \u001b[38;5;28;01mif\u001b[39;00m \u001b[38;5;28mself\u001b[39m._result \u001b[38;5;129;01mis\u001b[39;00m \u001b[38;5;28;01mNone\u001b[39;00m:\n\u001b[32m     64\u001b[39m     \u001b[38;5;28mself\u001b[39m._check_submitted()\n\u001b[32m---> \u001b[39m\u001b[32m65\u001b[39m     \u001b[38;5;28mself\u001b[39m._result = \u001b[38;5;28;43mself\u001b[39;49m\u001b[43m.\u001b[49m\u001b[43m_future\u001b[49m\u001b[43m.\u001b[49m\u001b[43mresult\u001b[49m\u001b[43m(\u001b[49m\u001b[43m)\u001b[49m\n\u001b[32m     66\u001b[39m \u001b[38;5;28;01mreturn\u001b[39;00m \u001b[38;5;28mself\u001b[39m._result\n",
      "\u001b[36mFile \u001b[39m\u001b[32mC:\\Program Files\\WindowsApps\\PythonSoftwareFoundation.Python.3.11_3.11.2544.0_x64__qbz5n2kfra8p0\\Lib\\concurrent\\futures\\_base.py:456\u001b[39m, in \u001b[36mFuture.result\u001b[39m\u001b[34m(self, timeout)\u001b[39m\n\u001b[32m    454\u001b[39m     \u001b[38;5;28;01mraise\u001b[39;00m CancelledError()\n\u001b[32m    455\u001b[39m \u001b[38;5;28;01melif\u001b[39;00m \u001b[38;5;28mself\u001b[39m._state == FINISHED:\n\u001b[32m--> \u001b[39m\u001b[32m456\u001b[39m     \u001b[38;5;28;01mreturn\u001b[39;00m \u001b[38;5;28;43mself\u001b[39;49m\u001b[43m.\u001b[49m\u001b[43m__get_result\u001b[49m\u001b[43m(\u001b[49m\u001b[43m)\u001b[49m\n\u001b[32m    457\u001b[39m \u001b[38;5;28;01melse\u001b[39;00m:\n\u001b[32m    458\u001b[39m     \u001b[38;5;28;01mraise\u001b[39;00m \u001b[38;5;167;01mTimeoutError\u001b[39;00m()\n",
      "\u001b[36mFile \u001b[39m\u001b[32mC:\\Program Files\\WindowsApps\\PythonSoftwareFoundation.Python.3.11_3.11.2544.0_x64__qbz5n2kfra8p0\\Lib\\concurrent\\futures\\_base.py:401\u001b[39m, in \u001b[36mFuture.__get_result\u001b[39m\u001b[34m(self)\u001b[39m\n\u001b[32m    399\u001b[39m \u001b[38;5;28;01mif\u001b[39;00m \u001b[38;5;28mself\u001b[39m._exception:\n\u001b[32m    400\u001b[39m     \u001b[38;5;28;01mtry\u001b[39;00m:\n\u001b[32m--> \u001b[39m\u001b[32m401\u001b[39m         \u001b[38;5;28;01mraise\u001b[39;00m \u001b[38;5;28mself\u001b[39m._exception\n\u001b[32m    402\u001b[39m     \u001b[38;5;28;01mfinally\u001b[39;00m:\n\u001b[32m    403\u001b[39m         \u001b[38;5;66;03m# Break a reference cycle with the exception in self._exception\u001b[39;00m\n\u001b[32m    404\u001b[39m         \u001b[38;5;28mself\u001b[39m = \u001b[38;5;28;01mNone\u001b[39;00m\n",
      "\u001b[36mFile \u001b[39m\u001b[32mC:\\Program Files\\WindowsApps\\PythonSoftwareFoundation.Python.3.11_3.11.2544.0_x64__qbz5n2kfra8p0\\Lib\\concurrent\\futures\\thread.py:58\u001b[39m, in \u001b[36m_WorkItem.run\u001b[39m\u001b[34m(self)\u001b[39m\n\u001b[32m     55\u001b[39m     \u001b[38;5;28;01mreturn\u001b[39;00m\n\u001b[32m     57\u001b[39m \u001b[38;5;28;01mtry\u001b[39;00m:\n\u001b[32m---> \u001b[39m\u001b[32m58\u001b[39m     result = \u001b[38;5;28;43mself\u001b[39;49m\u001b[43m.\u001b[49m\u001b[43mfn\u001b[49m\u001b[43m(\u001b[49m\u001b[43m*\u001b[49m\u001b[38;5;28;43mself\u001b[39;49m\u001b[43m.\u001b[49m\u001b[43margs\u001b[49m\u001b[43m,\u001b[49m\u001b[43m \u001b[49m\u001b[43m*\u001b[49m\u001b[43m*\u001b[49m\u001b[38;5;28;43mself\u001b[39;49m\u001b[43m.\u001b[49m\u001b[43mkwargs\u001b[49m\u001b[43m)\u001b[49m\n\u001b[32m     59\u001b[39m \u001b[38;5;28;01mexcept\u001b[39;00m \u001b[38;5;167;01mBaseException\u001b[39;00m \u001b[38;5;28;01mas\u001b[39;00m exc:\n\u001b[32m     60\u001b[39m     \u001b[38;5;28mself\u001b[39m.future.set_exception(exc)\n",
      "\u001b[36mFile \u001b[39m\u001b[32mc:\\Users\\tmgli\\Documents\\Source\\quantum\\.venv\\Lib\\site-packages\\qiskit\\primitives\\backend_estimator_v2.py:285\u001b[39m, in \u001b[36mBackendEstimatorV2._run\u001b[39m\u001b[34m(self, pubs)\u001b[39m\n\u001b[32m    282\u001b[39m results = [\u001b[38;5;28;01mNone\u001b[39;00m] * \u001b[38;5;28mlen\u001b[39m(pubs)\n\u001b[32m    283\u001b[39m \u001b[38;5;28;01mfor\u001b[39;00m shots, lst \u001b[38;5;129;01min\u001b[39;00m pub_dict.items():\n\u001b[32m    284\u001b[39m     \u001b[38;5;66;03m# run pubs with the same number of shots at once\u001b[39;00m\n\u001b[32m--> \u001b[39m\u001b[32m285\u001b[39m     pub_results = \u001b[38;5;28;43mself\u001b[39;49m\u001b[43m.\u001b[49m\u001b[43m_run_pubs\u001b[49m\u001b[43m(\u001b[49m\u001b[43m[\u001b[49m\u001b[43mpubs\u001b[49m\u001b[43m[\u001b[49m\u001b[43mi\u001b[49m\u001b[43m]\u001b[49m\u001b[43m \u001b[49m\u001b[38;5;28;43;01mfor\u001b[39;49;00m\u001b[43m \u001b[49m\u001b[43mi\u001b[49m\u001b[43m \u001b[49m\u001b[38;5;129;43;01min\u001b[39;49;00m\u001b[43m \u001b[49m\u001b[43mlst\u001b[49m\u001b[43m]\u001b[49m\u001b[43m,\u001b[49m\u001b[43m \u001b[49m\u001b[43mshots\u001b[49m\u001b[43m)\u001b[49m\n\u001b[32m    286\u001b[39m     \u001b[38;5;66;03m# reconstruct the result of pubs\u001b[39;00m\n\u001b[32m    287\u001b[39m     \u001b[38;5;28;01mfor\u001b[39;00m i, pub_result \u001b[38;5;129;01min\u001b[39;00m \u001b[38;5;28mzip\u001b[39m(lst, pub_results):\n",
      "\u001b[36mFile \u001b[39m\u001b[32mc:\\Users\\tmgli\\Documents\\Source\\quantum\\.venv\\Lib\\site-packages\\qiskit\\primitives\\backend_estimator_v2.py:300\u001b[39m, in \u001b[36mBackendEstimatorV2._run_pubs\u001b[39m\u001b[34m(self, pubs, shots)\u001b[39m\n\u001b[32m    297\u001b[39m     preprocessed_data.append(data)\n\u001b[32m    298\u001b[39m     flat_circuits.extend(data.circuits)\n\u001b[32m--> \u001b[39m\u001b[32m300\u001b[39m run_result, metadata = \u001b[43m_run_circuits\u001b[49m\u001b[43m(\u001b[49m\n\u001b[32m    301\u001b[39m \u001b[43m    \u001b[49m\u001b[43mflat_circuits\u001b[49m\u001b[43m,\u001b[49m\u001b[43m \u001b[49m\u001b[38;5;28;43mself\u001b[39;49m\u001b[43m.\u001b[49m\u001b[43m_backend\u001b[49m\u001b[43m,\u001b[49m\u001b[43m \u001b[49m\u001b[43mshots\u001b[49m\u001b[43m=\u001b[49m\u001b[43mshots\u001b[49m\u001b[43m,\u001b[49m\u001b[43m \u001b[49m\u001b[43mseed_simulator\u001b[49m\u001b[43m=\u001b[49m\u001b[38;5;28;43mself\u001b[39;49m\u001b[43m.\u001b[49m\u001b[43m_options\u001b[49m\u001b[43m.\u001b[49m\u001b[43mseed_simulator\u001b[49m\n\u001b[32m    302\u001b[39m \u001b[43m\u001b[49m\u001b[43m)\u001b[49m\n\u001b[32m    303\u001b[39m counts = _prepare_counts(run_result)\n\u001b[32m    305\u001b[39m results = []\n",
      "\u001b[36mFile \u001b[39m\u001b[32mc:\\Users\\tmgli\\Documents\\Source\\quantum\\.venv\\Lib\\site-packages\\qiskit\\primitives\\backend_estimator_v2.py:73\u001b[39m, in \u001b[36m_run_circuits\u001b[39m\u001b[34m(circuits, backend, clear_metadata, **run_options)\u001b[39m\n\u001b[32m     71\u001b[39m     result = [x.result() \u001b[38;5;28;01mfor\u001b[39;00m x \u001b[38;5;129;01min\u001b[39;00m jobs]\n\u001b[32m     72\u001b[39m \u001b[38;5;28;01melse\u001b[39;00m:\n\u001b[32m---> \u001b[39m\u001b[32m73\u001b[39m     result = [\u001b[43mbackend\u001b[49m\u001b[43m.\u001b[49m\u001b[43mrun\u001b[49m\u001b[43m(\u001b[49m\u001b[43mcircuits\u001b[49m\u001b[43m,\u001b[49m\u001b[43m \u001b[49m\u001b[43m*\u001b[49m\u001b[43m*\u001b[49m\u001b[43mrun_options\u001b[49m\u001b[43m)\u001b[49m.result()]\n\u001b[32m     74\u001b[39m \u001b[38;5;28;01mreturn\u001b[39;00m result, metadata\n",
      "\u001b[36mFile \u001b[39m\u001b[32mc:\\Users\\tmgli\\Documents\\Source\\quantum\\.venv\\Lib\\site-packages\\qiskit_ibm_runtime\\fake_provider\\fake_backend.py:308\u001b[39m, in \u001b[36mFakeBackendV2.run\u001b[39m\u001b[34m(self, run_input, **options)\u001b[39m\n\u001b[32m    306\u001b[39m     \u001b[38;5;28mself\u001b[39m._setup_sim()\n\u001b[32m    307\u001b[39m \u001b[38;5;28mself\u001b[39m.sim._options = \u001b[38;5;28mself\u001b[39m._options\n\u001b[32m--> \u001b[39m\u001b[32m308\u001b[39m job = \u001b[38;5;28;43mself\u001b[39;49m\u001b[43m.\u001b[49m\u001b[43msim\u001b[49m\u001b[43m.\u001b[49m\u001b[43mrun\u001b[49m\u001b[43m(\u001b[49m\u001b[43mrun_input\u001b[49m\u001b[43m,\u001b[49m\u001b[43m \u001b[49m\u001b[43m*\u001b[49m\u001b[43m*\u001b[49m\u001b[43moptions\u001b[49m\u001b[43m)\u001b[49m\n\u001b[32m    309\u001b[39m \u001b[38;5;28;01mreturn\u001b[39;00m job\n",
      "\u001b[36mFile \u001b[39m\u001b[32mc:\\Users\\tmgli\\Documents\\Source\\quantum\\.venv\\Lib\\site-packages\\qiskit\\providers\\basic_provider\\basic_simulator.py:469\u001b[39m, in \u001b[36mBasicSimulator.run\u001b[39m\u001b[34m(self, run_input, **run_options)\u001b[39m\n\u001b[32m    467\u001b[39m \u001b[38;5;28mself\u001b[39m._set_run_options(run_options=run_options)\n\u001b[32m    468\u001b[39m job_id = \u001b[38;5;28mstr\u001b[39m(uuid.uuid4())\n\u001b[32m--> \u001b[39m\u001b[32m469\u001b[39m job = BasicProviderJob(\u001b[38;5;28mself\u001b[39m, job_id, \u001b[38;5;28;43mself\u001b[39;49m\u001b[43m.\u001b[49m\u001b[43m_run_job\u001b[49m\u001b[43m(\u001b[49m\u001b[43mjob_id\u001b[49m\u001b[43m,\u001b[49m\u001b[43m \u001b[49m\u001b[43mrun_input\u001b[49m\u001b[43m)\u001b[49m)\n\u001b[32m    470\u001b[39m \u001b[38;5;28;01mreturn\u001b[39;00m job\n",
      "\u001b[36mFile \u001b[39m\u001b[32mc:\\Users\\tmgli\\Documents\\Source\\quantum\\.venv\\Lib\\site-packages\\qiskit\\providers\\basic_provider\\basic_simulator.py:485\u001b[39m, in \u001b[36mBasicSimulator._run_job\u001b[39m\u001b[34m(self, job_id, run_input)\u001b[39m\n\u001b[32m    482\u001b[39m \u001b[38;5;28;01mif\u001b[39;00m \u001b[38;5;28misinstance\u001b[39m(run_input, QuantumCircuit):\n\u001b[32m    483\u001b[39m     run_input = [run_input]\n\u001b[32m--> \u001b[39m\u001b[32m485\u001b[39m \u001b[38;5;28;43mself\u001b[39;49m\u001b[43m.\u001b[49m\u001b[43m_validate\u001b[49m\u001b[43m(\u001b[49m\u001b[43mrun_input\u001b[49m\u001b[43m)\u001b[49m\n\u001b[32m    486\u001b[39m result_list = []\n\u001b[32m    487\u001b[39m start = time.time()\n",
      "\u001b[36mFile \u001b[39m\u001b[32mc:\\Users\\tmgli\\Documents\\Source\\quantum\\.venv\\Lib\\site-packages\\qiskit\\providers\\basic_provider\\basic_simulator.py:680\u001b[39m, in \u001b[36mBasicSimulator._validate\u001b[39m\u001b[34m(self, run_input)\u001b[39m\n\u001b[32m    678\u001b[39m \u001b[38;5;28;01mfor\u001b[39;00m circuit \u001b[38;5;129;01min\u001b[39;00m run_input:\n\u001b[32m    679\u001b[39m     \u001b[38;5;28;01mif\u001b[39;00m circuit.num_qubits > max_qubits:\n\u001b[32m--> \u001b[39m\u001b[32m680\u001b[39m         \u001b[38;5;28;01mraise\u001b[39;00m BasicProviderError(\n\u001b[32m    681\u001b[39m             \u001b[33mf\u001b[39m\u001b[33m\"\u001b[39m\u001b[33mNumber of qubits \u001b[39m\u001b[38;5;132;01m{\u001b[39;00mcircuit.num_qubits\u001b[38;5;132;01m}\u001b[39;00m\u001b[33m is greater than maximum (\u001b[39m\u001b[38;5;132;01m{\u001b[39;00mmax_qubits\u001b[38;5;132;01m}\u001b[39;00m\u001b[33m) \u001b[39m\u001b[33m\"\u001b[39m\n\u001b[32m    682\u001b[39m             \u001b[33mf\u001b[39m\u001b[33m'\u001b[39m\u001b[33mfor \u001b[39m\u001b[33m\"\u001b[39m\u001b[38;5;132;01m{\u001b[39;00m\u001b[38;5;28mself\u001b[39m.name\u001b[38;5;132;01m}\u001b[39;00m\u001b[33m\"\u001b[39m\u001b[33m.\u001b[39m\u001b[33m'\u001b[39m\n\u001b[32m    683\u001b[39m         )\n\u001b[32m    684\u001b[39m     name = circuit.name\n\u001b[32m    685\u001b[39m     \u001b[38;5;28;01mif\u001b[39;00m \u001b[38;5;28mlen\u001b[39m(circuit.cregs) == \u001b[32m0\u001b[39m:\n",
      "\u001b[31mBasicProviderError\u001b[39m: 'Number of qubits 156 is greater than maximum (24) for \"basic_simulator\".'"
     ]
    }
   ],
   "source": [
    "# Convert to an ISA circuit and layout-mapped observables.\n",
    " \n",
    "pm = generate_preset_pass_manager(backend=backend, optimization_level=1)\n",
    "isa_circuit = pm.run(qc)\n",
    "mapped_observables = [\n",
    "    observable.apply_layout(isa_circuit.layout) for observable in observables\n",
    "]\n",
    " \n",
    "job = estimator.run([(isa_circuit, mapped_observables)])\n",
    "result = job.result()\n",
    " \n",
    "# This is the result of the entire submission.  You submitted one Pub,\n",
    "# so this contains one inner result (and some metadata of its own).\n",
    " \n",
    "job_result = job.result()\n",
    " \n",
    "# This is the result from our single pub, which had five observables,\n",
    "# so contains information on all five.\n",
    " \n",
    "pub_result = job.result()[0]"
   ]
  }
 ],
 "metadata": {
  "kernelspec": {
   "display_name": ".venv",
   "language": "python",
   "name": "python3"
  },
  "language_info": {
   "codemirror_mode": {
    "name": "ipython",
    "version": 3
   },
   "file_extension": ".py",
   "mimetype": "text/x-python",
   "name": "python",
   "nbconvert_exporter": "python",
   "pygments_lexer": "ipython3",
   "version": "3.11.9"
  }
 },
 "nbformat": 4,
 "nbformat_minor": 5
}
